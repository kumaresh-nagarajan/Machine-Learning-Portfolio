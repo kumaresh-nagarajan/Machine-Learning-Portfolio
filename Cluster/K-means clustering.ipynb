{
 "cells": [
  {
   "cell_type": "markdown",
   "id": "8339ef10",
   "metadata": {},
   "source": [
    "Our objective is to analyze the OnlineRetail.csv dataset and build a K-means clustering machine learning model. \n",
    "This model will help us to segment customers based on their purchasing behavior\n",
    "(specifically using Recency, Frequency, and Monetary values) into distinct groups.\n",
    "\n",
    "The ultimate goal is to understand these customer segments, which can then inform targeted marketing strategies and\n",
    "business decisions. \n",
    "We are proceeding step-by-step to ensure a thorough understanding of each stage of the model-building process."
   ]
  },
  {
   "cell_type": "code",
   "execution_count": 1,
   "id": "dfb26f90",
   "metadata": {},
   "outputs": [
    {
     "name": "stdout",
     "output_type": "stream",
     "text": [
      "First 5 rows of the dataset:\n",
      "| InvoiceNo   | StockCode   | Description                         | Quantity   | InvoiceDate      | UnitPrice   | CustomerID   | Country        |\n",
      "|:------------|:------------|:------------------------------------|:-----------|:-----------------|:------------|:-------------|:---------------|\n",
      "| 536365      | 85123A      | WHITE HANGING HEART T-LIGHT HOLDER  | 6          | 01-12-2010 08:26 | 2.55        | 17850        | United Kingdom |\n",
      "| 536365      | 71053       | WHITE METAL LANTERN                 | 6          | 01-12-2010 08:26 | 3.39        | 17850        | United Kingdom |\n",
      "| 536365      | 84406B      | CREAM CUPID HEARTS COAT HANGER      | 8          | 01-12-2010 08:26 | 2.75        | 17850        | United Kingdom |\n",
      "| 536365      | 84029G      | KNITTED UNION FLAG HOT WATER BOTTLE | 6          | 01-12-2010 08:26 | 3.39        | 17850        | United Kingdom |\n",
      "| 536365      | 84029E      | RED WOOLLY HOTTIE WHITE HEART.      | 6          | 01-12-2010 08:26 | 3.39        | 17850        | United Kingdom |\n",
      "\n",
      "summary statistics of the dataset:\n",
      "| Quantity   | UnitPrice   | CustomerID   |\n",
      "|:-----------|:------------|:-------------|\n",
      "| 541909     | 541909      | 406829       |\n",
      "| 9.55225    | 4.61111     | 15287.7      |\n",
      "| 218.081    | 96.7599     | 1713.6       |\n",
      "| -80995     | -11062.1    | 12346        |\n",
      "| 1          | 1.25        | 13953        |\n",
      "| 3          | 2.08        | 15152        |\n",
      "| 10         | 4.13        | 16791        |\n",
      "| 80995      | 38970       | 18287        |\n",
      "\n",
      "Information about the columns:\n",
      "<class 'pandas.core.frame.DataFrame'>\n",
      "RangeIndex: 541909 entries, 0 to 541908\n",
      "Data columns (total 8 columns):\n",
      " #   Column       Non-Null Count   Dtype  \n",
      "---  ------       --------------   -----  \n",
      " 0   InvoiceNo    541909 non-null  object \n",
      " 1   StockCode    541909 non-null  object \n",
      " 2   Description  540455 non-null  object \n",
      " 3   Quantity     541909 non-null  int64  \n",
      " 4   InvoiceDate  541909 non-null  object \n",
      " 5   UnitPrice    541909 non-null  float64\n",
      " 6   CustomerID   406829 non-null  float64\n",
      " 7   Country      541909 non-null  object \n",
      "dtypes: float64(2), int64(1), object(5)\n",
      "memory usage: 33.1+ MB\n",
      "None\n"
     ]
    }
   ],
   "source": [
    "import pandas as pd\n",
    "#Load the dataset\n",
    "df = pd.read_csv('OnlineRetail.csv',encoding='latin1')\n",
    "\n",
    "#Display the first 5 rows\n",
    "print(\"First 5 rows of the dataset:\")\n",
    "print(df.head().to_markdown(index=False,numalign='left', stralign='left'))\n",
    "\n",
    "#Display the summary of descriptive statistics report\n",
    "print(\"\\nsummary statistics of the dataset:\")\n",
    "print(df.describe().to_markdown(index=False,numalign='left',stralign='left'))\n",
    "\n",
    "#Display the column information\n",
    "print(\"\\nInformation about the columns:\")\n",
    "print(df.info())"
   ]
  },
  {
   "cell_type": "markdown",
   "id": "88908f6f",
   "metadata": {},
   "source": [
    "Step 2 - Data Cleaning and preprocessing\n",
    "This step addresses the missing values, invalid entries to prepare the dataset for prediction model"
   ]
  },
  {
   "cell_type": "code",
   "execution_count": 2,
   "id": "be0c7ac6",
   "metadata": {},
   "outputs": [
    {
     "name": "stdout",
     "output_type": "stream",
     "text": [
      "--- Data Cleaning & Preprocessing Complete ---\n",
      "First 5 rows of the cleaned dataset:\n",
      "| InvoiceNo   | StockCode   | Description                         | Quantity   | InvoiceDate      | UnitPrice   | CustomerID   | Country        |\n",
      "|:------------|:------------|:------------------------------------|:-----------|:-----------------|:------------|:-------------|:---------------|\n",
      "| 536365      | 85123A      | WHITE HANGING HEART T-LIGHT HOLDER  | 6          | 01-12-2010 08:26 | 2.55        | 17850        | United Kingdom |\n",
      "| 536365      | 71053       | WHITE METAL LANTERN                 | 6          | 01-12-2010 08:26 | 3.39        | 17850        | United Kingdom |\n",
      "| 536365      | 84406B      | CREAM CUPID HEARTS COAT HANGER      | 8          | 01-12-2010 08:26 | 2.75        | 17850        | United Kingdom |\n",
      "| 536365      | 84029G      | KNITTED UNION FLAG HOT WATER BOTTLE | 6          | 01-12-2010 08:26 | 3.39        | 17850        | United Kingdom |\n",
      "| 536365      | 84029E      | RED WOOLLY HOTTIE WHITE HEART.      | 6          | 01-12-2010 08:26 | 3.39        | 17850        | United Kingdom |\n",
      "\n",
      "Information about the cleaned data columns:\n",
      "<class 'pandas.core.frame.DataFrame'>\n",
      "Index: 397884 entries, 0 to 541908\n",
      "Data columns (total 9 columns):\n",
      " #   Column       Non-Null Count   Dtype         \n",
      "---  ------       --------------   -----         \n",
      " 0   InvoiceNo    397884 non-null  object        \n",
      " 1   StockCode    397884 non-null  object        \n",
      " 2   Description  397884 non-null  object        \n",
      " 3   Quantity     397884 non-null  int64         \n",
      " 4   InvoiceDate  397884 non-null  datetime64[ns]\n",
      " 5   UnitPrice    397884 non-null  float64       \n",
      " 6   CustomerID   397884 non-null  float64       \n",
      " 7   Country      397884 non-null  object        \n",
      " 8   TotalPrice   397884 non-null  float64       \n",
      "dtypes: datetime64[ns](1), float64(3), int64(1), object(4)\n",
      "memory usage: 30.4+ MB\n",
      "None\n"
     ]
    }
   ],
   "source": [
    "import pandas as pd\n",
    "import datetime as dt\n",
    "\n",
    "#Lets first drop rows with the missing customer id\n",
    "df_cleaned = df.dropna(subset=['CustomerID'])\n",
    "\n",
    "#Remove Rows with missing description\n",
    "df_cleaned = df_cleaned.dropna(subset=['Description'])\n",
    "\n",
    "#Remove rows with negative or zero quantity\n",
    "df_cleaned = df_cleaned[df_cleaned['Quantity']>0]\n",
    "\n",
    "#Remove rows with negative unit price\n",
    "df_cleaned = df_cleaned[df_cleaned['UnitPrice']>0]\n",
    "\n",
    "#Convert invoice time to date time objects\n",
    "df_cleaned['InvoiceDate'] = pd.to_datetime(df_cleaned['InvoiceDate'],format='%d-%m-%Y %H:%M')\n",
    "\n",
    "#Calculate total price(revenue) - here we're creating a new column to be used in monetary calculation\n",
    "df_cleaned['TotalPrice'] = df_cleaned['Quantity'] * df_cleaned['UnitPrice']\n",
    "\n",
    "print(\"--- Data Cleaning & Preprocessing Complete ---\")\n",
    "print(\"First 5 rows of the cleaned dataset:\")\n",
    "print(df.head().to_markdown(index=False,numalign='left', stralign='left'))\n",
    "print(\"\\nInformation about the cleaned data columns:\")\n",
    "print(df_cleaned.info())\n"
   ]
  },
  {
   "cell_type": "markdown",
   "id": "bf647527",
   "metadata": {},
   "source": [
    "Step 3 - RFM (Recency, Frequency, Monetary) analysis -Key metrices that catgorise Customer segmentation & helps understand\n",
    "the customer's purchasing behaviour. We create a new dataframe itself."
   ]
  },
  {
   "cell_type": "code",
   "execution_count": 3,
   "id": "1e534345",
   "metadata": {},
   "outputs": [
    {
     "name": "stdout",
     "output_type": "stream",
     "text": [
      "--- RFM Analysis Complete ---\n",
      "First 5 rows of the RFM dataframe:\n",
      "| CustomerID   | Recency   | Frequency   | Monetary   |\n",
      "|:-------------|:----------|:------------|:-----------|\n",
      "| 12346        | 325       | 1           | 77183.6    |\n",
      "| 12347        | 1         | 7           | 4310       |\n",
      "| 12348        | 74        | 4           | 1797.24    |\n",
      "| 12349        | 18        | 1           | 1757.55    |\n",
      "| 12350        | 309       | 1           | 334.4      |\n",
      "\n",
      "Summary statistics of the RFM dataframe:\n",
      "| CustomerID   | Recency   | Frequency   | Monetary   |\n",
      "|:-------------|:----------|:------------|:-----------|\n",
      "| 4338         | 4338      | 4338        | 4338       |\n",
      "| 15300.4      | 91.5364   | 4.27201     | 2054.27    |\n",
      "| 1721.81      | 100.014   | 7.698       | 8989.23    |\n",
      "| 12346        | 0         | 1           | 3.75       |\n",
      "| 13813.2      | 17        | 1           | 307.415    |\n",
      "| 15299.5      | 50        | 2           | 674.485    |\n",
      "| 16778.8      | 141       | 5           | 1661.74    |\n",
      "| 18287        | 373       | 209         | 280206     |\n"
     ]
    }
   ],
   "source": [
    "#Recency\n",
    "#We use the latest dates in the data set to use it as a reference point\n",
    "latest_date = df_cleaned['InvoiceDate'].max()\n",
    "\n",
    "#Let's find each customer and their latest purchase date to calculate the difference in days.\n",
    "recency_df = df_cleaned.groupby('CustomerID')['InvoiceDate'].max().reset_index()\n",
    "recency_df['Recency'] = (latest_date - recency_df['InvoiceDate']).dt.days\n",
    "\n",
    "#Frequency \n",
    "#For each customer calculate the number of unique InvoiceNo \n",
    "frequency_df = df_cleaned.groupby('CustomerID')['InvoiceNo'].nunique().reset_index()\n",
    "frequency_df.rename(columns={'InvoiceNo':'Frequency'},inplace=True)\n",
    "\n",
    "#Monetary\n",
    "#For each customer sum up their TotalPrice(i.e revenue)\n",
    "monetary_df = df_cleaned.groupby('CustomerID')['TotalPrice'].sum().reset_index()\n",
    "monetary_df.rename(columns={'TotalPrice':'Monetary'},inplace=True)\n",
    "\n",
    "#Merge all three RFM feautures into a single dataframe \n",
    "rfm_df = recency_df.merge(frequency_df,on='CustomerID')\n",
    "rfm_df = rfm_df.merge(monetary_df,on='CustomerID')\n",
    "\n",
    "#Drop the original InvoiceDate columns from rfm_df as it's no longer needed after calculating the Recency\n",
    "rfm_df = rfm_df.drop('InvoiceDate',axis=1)\n",
    "\n",
    "\n",
    "print(\"--- RFM Analysis Complete ---\")\n",
    "print(\"First 5 rows of the RFM dataframe:\")\n",
    "print(rfm_df.head().to_markdown(index=False,numalign='left',stralign='left'))\n",
    "print(\"\\nSummary statistics of the RFM dataframe:\")\n",
    "print(rfm_df.describe().to_markdown(index=False,numalign='left',stralign='left'))\n"
   ]
  },
  {
   "cell_type": "markdown",
   "id": "1c001e94",
   "metadata": {},
   "source": [
    "Step 4 - Data Scaling \n",
    "Standardization (using StandardScaler) is a common scaling technique. \n",
    "It transforms the data so that it has a mean of 0 and a standard deviation of 1. \n",
    "This ensures that all features contribute equally to the distance calculations."
   ]
  },
  {
   "cell_type": "code",
   "execution_count": 5,
   "id": "114be180",
   "metadata": {},
   "outputs": [
    {
     "name": "stdout",
     "output_type": "stream",
     "text": [
      "--- Data Scaling Complete ---\n",
      "First 5 rows of the scaled RFM dataframe:\n",
      "| Recency   | Frequency   | Monetary   |\n",
      "|:----------|:------------|:-----------|\n",
      "| 2.33457   | -0.425097   | 8.35867    |\n",
      "| -0.90534  | 0.354417    | 0.250966   |\n",
      "| -0.17536  | -0.0353399  | -0.028596  |\n",
      "| -0.735345 | -0.425097   | -0.0330118 |\n",
      "| 2.17458   | -0.425097   | -0.191347  |\n"
     ]
    }
   ],
   "source": [
    "from sklearn.preprocessing import StandardScaler\n",
    "import matplotlib.pyplot as plt\n",
    "from sklearn.cluster import KMeans\n",
    "import numpy as np\n",
    "import pandas as pd\n",
    "\n",
    "#Let's select RFM features for scaling\n",
    "rfm_features = rfm_df[['Recency','Frequency','Monetary']]\n",
    "\n",
    "#Now let's bring in & intialise standard scalar into the picture\n",
    "scaler = StandardScaler()\n",
    "\n",
    "#Let's apply standard scaler to the RFM features\n",
    "rfm_scaled = scaler.fit_transform(rfm_features)\n",
    "\n",
    "#Convert the scaled data to a dataframe\n",
    "#Here we use rfm_df's index to maintain customerid assiciation implicitly.\n",
    "rfm_scaled_df = pd.DataFrame(rfm_scaled,columns=(rfm_features.columns),index=rfm_df.index)\n",
    "\n",
    "print(\"--- Data Scaling Complete ---\")\n",
    "print(\"First 5 rows of the scaled RFM dataframe:\")\n",
    "print(rfm_scaled_df.head().to_markdown(index=False, numalign=\"left\", stralign=\"left\"))\n",
    "\n"
   ]
  },
  {
   "cell_type": "markdown",
   "id": "63e5119b",
   "metadata": {},
   "source": [
    "Step 5 - Determine the total no of clusters (k) using elbow method\n",
    "It sums the squared distance within each cluster. \n",
    "With a set of range the k-means clustering will intialse and find different K values and calculates wcss for each of those range. \n",
    "Then it plots a curve between the no of clusters and the calculated wcss values.\n",
    "When there is a sharp dip, that point is the final determined worthy k value as\n",
    "any no of clusters beyond this point is considered obsolete."
   ]
  },
  {
   "cell_type": "code",
   "execution_count": 7,
   "id": "771298da",
   "metadata": {},
   "outputs": [
    {
     "data": {
      "image/png": "[encoded data removed]",
      "text/plain": [
       "<Figure size 1000x600 with 1 Axes>"
      ]
     },
     "metadata": {},
     "output_type": "display_data"
    },
    {
     "name": "stdout",
     "output_type": "stream",
     "text": [
      "\n",
      "--- Elbow Method Plot Generated ---\n",
      "Observe the plot to find the 'elbow' point where the decrease in SSE slows down significantly.\n",
      "A common observation for this dataset suggests K=3 or K=4 might be optimal.\n"
     ]
    }
   ],
   "source": [
    "import matplotlib.pyplot as plt\n",
    "from sklearn.cluster import KMeans\n",
    "import numpy as np\n",
    "import pandas as pd\n",
    "from sklearn.preprocessing import StandardScaler\n",
    "\n",
    "#Let's assign a variable in dictionary to store the sum of squared errors for each K\n",
    "sse={}\n",
    "\n",
    "#Using a for loop, let's now iterate from K=1 to K=10\n",
    "\n",
    "for k in range(1,11):\n",
    "    # Initialize KMeans model with 'k' clusters and a random_state for reproducibility\n",
    "    # n_init=10 is added to suppress a future warning and explicitly set the number of initializations\n",
    "    kmeans = KMeans(n_clusters=k, random_state=42, n_init=10)\n",
    "    \n",
    "    # Fit the KMeans model to the scaled RFM data\n",
    "    kmeans.fit(rfm_scaled)\n",
    "    \n",
    "    # Store the inertia (SSE) for the current K\n",
    "    sse[k] = kmeans.inertia_\n",
    "    \n",
    "#Let's plot the elbow method graph\n",
    "plt.figure(figsize=(10,6)) # For Visualisation\n",
    "plt.plot(list(sse.keys()),list(sse.values()),marker='o',linestyle='-') #Here we plot K with it's respective sse\n",
    "plt.xlabel(\"Number of clusters (K)\") #x-axis label\n",
    "plt.ylabel(\"SSE (Within-cluster sum of squares)\") #y-axis label\n",
    "plt.title(\"Elbow Method to determine optimal K\") #Title of the plot\n",
    "plt.xticks(np.arange(1,11,1))#Ensures x-axis ticks are integers from 1 to 10\n",
    "plt.grid()#Showcases the grid lines for better visualisation\n",
    "plt.show()#to display the plot\n",
    "\n",
    "print(\"\\n--- Elbow Method Plot Generated ---\")\n",
    "print(\"Observe the plot to find the 'elbow' point where the decrease in SSE slows down significantly.\")\n",
    "print(\"A common observation for this dataset suggests K=3 or K=4 might be optimal.\")"
   ]
  },
  {
   "cell_type": "code",
   "execution_count": 11,
   "id": "2c80ae4d",
   "metadata": {},
   "outputs": [
    {
     "name": "stdout",
     "output_type": "stream",
     "text": [
      "\n",
      "--- K-means Clustering Results with K=3 ---\n",
      "Mean RFM values for each cluster:\n",
      "| Cluster   | Recency   | Frequency   | Monetary   |\n",
      "|:----------|:----------|:------------|:-----------|\n",
      "| 1         | 5.03846   | 66.4231     | 85904.4    |\n",
      "| 0         | 40.4542   | 4.67276     | 1855.94    |\n",
      "| 2         | 246.106   | 1.58226     | 631.424    |\n"
     ]
    }
   ],
   "source": [
    "#Step 6 - Build K-means model and anlayse clusters\n",
    "\n",
    "import pandas as pd\n",
    "from sklearn.cluster import KMeans\n",
    "\n",
    "#Let's define the optimal K values\n",
    "optimal_k = 3\n",
    "\n",
    "kmeans_model = KMeans(n_clusters=optimal_k,random_state=42,n_init=10)\n",
    "\n",
    "#Now let's fit the k-means model into the scaled RFM data\n",
    "kmeans_model.fit(rfm_scaled)\n",
    "\n",
    "# Add the cluster labels to the original (unscaled) RFM dataframe\n",
    "# This allows us to interpret the clusters using the original Recency, Frequency, Monetary values\n",
    "#.labels_ stores the cluster labels assigned to each data point after the clustering algorithm has been fit to the data.\n",
    "rfm_df['Cluster'] = kmeans_model.labels_\n",
    "\n",
    "# Analyze the characteristics of each cluster\n",
    "# Group by the new 'Cluster' column and calculate the mean of RFM features for each cluster\n",
    "cluster_analysis = rfm_df.groupby('Cluster')[['Recency','Frequency','Monetary']].mean().reset_index()\n",
    "\n",
    "# Sort the clusters by Monetary value in descending order for better interpretation\n",
    "# This helps in quickly identifying the most valuable customer segment\n",
    "cluster_analysis = cluster_analysis.sort_values(by='Monetary',ascending=False)\n",
    "\n",
    "print(f\"\\n--- K-means Clustering Results with K={optimal_k} ---\")\n",
    "print(\"Mean RFM values for each cluster:\")\n",
    "print(cluster_analysis.to_markdown(index=False, numalign=\"left\", stralign=\"left\"))\n"
   ]
  },
  {
   "cell_type": "markdown",
   "id": "c31521ed",
   "metadata": {},
   "source": [
    "Interpretation of Clusters:\n",
    "Based on the mean RFM values for each cluster, we can interpret them as follows:\n",
    "\n",
    "Cluster 1 (Top Customers / Loyal Customers):\n",
    "\n",
    "Recency: Very low (around 5 days). This means these customers have made a purchase very recently.\n",
    "Frequency: Very high (around 66 purchases). They buy very frequently.\n",
    "Monetary: Very high (around $85,904). They spend a significant amount of money.\n",
    "Interpretation: This segment represents your most valuable, highly engaged, and recently active customers. They are the backbone of your business and should be prioritized for loyalty programs and exclusive offers.\n",
    "\n",
    "\n",
    "Cluster 0 (Regular Customers):\n",
    "\n",
    "Recency: Moderate (around 40 days). They have purchased somewhat recently.\n",
    "Frequency: Moderate (around 4-5 purchases). They buy regularly, but not as frequently as Cluster 2.\n",
    "Monetary: Moderate (around $1,856). They spend a decent amount but not as much as the top tier.\n",
    "Interpretation: This cluster consists of consistent customers who engage periodically. They are a good segment to focus on for retention and growth strategies to increase their frequency and monetary value.\n",
    "\n",
    "\n",
    "Cluster 2 (New/Churning Customers):\n",
    "\n",
    "Recency: High (around 246 days). They have not purchased for a long time.\n",
    "Frequency: Low (around 1-2 purchases). They have made very few purchases.\n",
    "Monetary: Low (around $631). They have spent the least amount of money.\n",
    "Interpretation: This segment likely includes new customers who made a single purchase and haven't returned, or customers who are on the verge of churning. They require targeted re-engagement campaigns, special offers, or win-back strategies to encourage them to become active again."
   ]
  },
  {
   "cell_type": "code",
   "execution_count": 12,
   "id": "f5fbb335",
   "metadata": {},
   "outputs": [
    {
     "name": "stdout",
     "output_type": "stream",
     "text": [
      "\n",
      "Examples from Cluster 0 (New/Churning Customers):\n",
      "| CustomerID   | Recency   | Frequency   | Monetary   | Cluster   |\n",
      "|:-------------|:----------|:------------|:-----------|:----------|\n",
      "| 12347        | 1         | 7           | 4310       | 0         |\n",
      "| 12348        | 74        | 4           | 1797.24    | 0         |\n",
      "| 12349        | 18        | 1           | 1757.55    | 0         |\n",
      "\n",
      "Examples from Cluster 1 (Regular Customers):\n",
      "| CustomerID   | Recency   | Frequency   | Monetary   | Cluster   |\n",
      "|:-------------|:----------|:------------|:-----------|:----------|\n",
      "| 12415        | 23        | 21          | 124915     | 1         |\n",
      "| 12748        | 0         | 209         | 33719.7    | 1         |\n",
      "| 12971        | 3         | 86          | 11189.9    | 1         |\n",
      "\n",
      "Examples from Cluster 2 (Top Customers / Loyal Customers):\n",
      "| CustomerID   | Recency   | Frequency   | Monetary   | Cluster   |\n",
      "|:-------------|:----------|:------------|:-----------|:----------|\n",
      "| 12346        | 325       | 1           | 77183.6    | 2         |\n",
      "| 12350        | 309       | 1           | 334.4      | 2         |\n",
      "| 12353        | 203       | 1           | 89         | 2         |\n"
     ]
    }
   ],
   "source": [
    "# Examples of customers in each cluster\n",
    "print(\"\\nExamples from Cluster 0 (New/Churning Customers):\")\n",
    "print(rfm_df[rfm_df['Cluster'] == 0].head(3).to_markdown(index=False, numalign=\"left\", stralign=\"left\"))\n",
    "\n",
    "print(\"\\nExamples from Cluster 1 (Regular Customers):\")\n",
    "print(rfm_df[rfm_df['Cluster'] == 1].head(3).to_markdown(index=False, numalign=\"left\", stralign=\"left\"))\n",
    "\n",
    "print(\"\\nExamples from Cluster 2 (Top Customers / Loyal Customers):\")\n",
    "print(rfm_df[rfm_df['Cluster'] == 2].head(3).to_markdown(index=False, numalign=\"left\", stralign=\"left\"))"
   ]
  },
  {
   "cell_type": "code",
   "execution_count": null,
   "id": "a48d7a74",
   "metadata": {},
   "outputs": [],
   "source": []
  }
 ],
 "metadata": {
  "kernelspec": {
   "display_name": "Python 3 (ipykernel)",
   "language": "python",
   "name": "python3"
  },
  "language_info": {
   "codemirror_mode": {
    "name": "ipython",
    "version": 3
   },
   "file_extension": ".py",
   "mimetype": "text/x-python",
   "name": "python",
   "nbconvert_exporter": "python",
   "pygments_lexer": "ipython3",
   "version": "3.11.7"
  }
 },
 "nbformat": 4,
 "nbformat_minor": 5
}
