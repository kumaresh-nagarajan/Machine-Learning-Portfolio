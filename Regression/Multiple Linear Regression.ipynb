{
 "cells": [
  {
   "cell_type": "markdown",
   "id": "4cce45e3",
   "metadata": {},
   "source": [
    "Step 1 - Load and initial data inspection. Here we check the datatype, statisctical details, null/missing values if any."
   ]
  },
  {
   "cell_type": "code",
   "execution_count": 1,
   "id": "99e322ec",
   "metadata": {},
   "outputs": [
    {
     "name": "stdout",
     "output_type": "stream",
     "text": [
      "\n",
      "First 5 rows of the dataset:\n",
      "| Hours Studied   | Previous Scores   | Extracurricular Activities   | Sleep Hours   | Sample Question Papers Practiced   | Performance Index   |\n",
      "|:----------------|:------------------|:-----------------------------|:--------------|:-----------------------------------|:--------------------|\n",
      "| 7               | 99                | Yes                          | 9             | 1                                  | 91                  |\n",
      "| 4               | 82                | No                           | 4             | 2                                  | 65                  |\n",
      "| 8               | 51                | Yes                          | 7             | 2                                  | 45                  |\n",
      "| 5               | 52                | Yes                          | 5             | 2                                  | 36                  |\n",
      "| 7               | 75                | No                           | 8             | 5                                  | 66                  |\n"
     ]
    }
   ],
   "source": [
    "import pandas as pd\n",
    "\n",
    "df = pd.read_csv(\"Student_Performance.csv\")\n",
    "print('\\nFirst 5 rows of the dataset:')\n",
    "print(df.head().to_markdown(index=False,numalign=\"left\",stralign=\"left\")) #.to_markdown() formats the output nicely.\n"
   ]
  },
  {
   "cell_type": "code",
   "execution_count": 2,
   "id": "2085694c",
   "metadata": {},
   "outputs": [
    {
     "name": "stdout",
     "output_type": "stream",
     "text": [
      "<class 'pandas.core.frame.DataFrame'>\n",
      "RangeIndex: 10000 entries, 0 to 9999\n",
      "Data columns (total 6 columns):\n",
      " #   Column                            Non-Null Count  Dtype  \n",
      "---  ------                            --------------  -----  \n",
      " 0   Hours Studied                     10000 non-null  int64  \n",
      " 1   Previous Scores                   10000 non-null  int64  \n",
      " 2   Extracurricular Activities        10000 non-null  object \n",
      " 3   Sleep Hours                       10000 non-null  int64  \n",
      " 4   Sample Question Papers Practiced  10000 non-null  int64  \n",
      " 5   Performance Index                 10000 non-null  float64\n",
      "dtypes: float64(1), int64(4), object(1)\n",
      "memory usage: 468.9+ KB\n"
     ]
    }
   ],
   "source": [
    "df.info() #This step is used to get the datatype, no of null values, and total no of columns in the dataset."
   ]
  },
  {
   "cell_type": "code",
   "execution_count": 3,
   "id": "ad9879d5",
   "metadata": {},
   "outputs": [
    {
     "data": {
      "text/plain": [
       "Extracurricular Activities\n",
       "No     5052\n",
       "Yes    4948\n",
       "Name: count, dtype: int64"
      ]
     },
     "execution_count": 3,
     "metadata": {},
     "output_type": "execute_result"
    }
   ],
   "source": [
    "df['Extracurricular Activities'].value_counts() #Since this is the only categorical data type, a nominal data type, we're taking the total count"
   ]
  },
  {
   "cell_type": "code",
   "execution_count": 4,
   "id": "704ebde0",
   "metadata": {},
   "outputs": [
    {
     "data": {
      "text/html": [
       "<div>\n",
       "<style scoped>\n",
       "    .dataframe tbody tr th:only-of-type {\n",
       "        vertical-align: middle;\n",
       "    }\n",
       "\n",
       "    .dataframe tbody tr th {\n",
       "        vertical-align: top;\n",
       "    }\n",
       "\n",
       "    .dataframe thead th {\n",
       "        text-align: right;\n",
       "    }\n",
       "</style>\n",
       "<table border=\"1\" class=\"dataframe\">\n",
       "  <thead>\n",
       "    <tr style=\"text-align: right;\">\n",
       "      <th></th>\n",
       "      <th>Hours Studied</th>\n",
       "      <th>Previous Scores</th>\n",
       "      <th>Sleep Hours</th>\n",
       "      <th>Sample Question Papers Practiced</th>\n",
       "      <th>Performance Index</th>\n",
       "    </tr>\n",
       "  </thead>\n",
       "  <tbody>\n",
       "    <tr>\n",
       "      <th>count</th>\n",
       "      <td>10000.000000</td>\n",
       "      <td>10000.000000</td>\n",
       "      <td>10000.000000</td>\n",
       "      <td>10000.000000</td>\n",
       "      <td>10000.000000</td>\n",
       "    </tr>\n",
       "    <tr>\n",
       "      <th>mean</th>\n",
       "      <td>4.992900</td>\n",
       "      <td>69.445700</td>\n",
       "      <td>6.530600</td>\n",
       "      <td>4.583300</td>\n",
       "      <td>55.224800</td>\n",
       "    </tr>\n",
       "    <tr>\n",
       "      <th>std</th>\n",
       "      <td>2.589309</td>\n",
       "      <td>17.343152</td>\n",
       "      <td>1.695863</td>\n",
       "      <td>2.867348</td>\n",
       "      <td>19.212558</td>\n",
       "    </tr>\n",
       "    <tr>\n",
       "      <th>min</th>\n",
       "      <td>1.000000</td>\n",
       "      <td>40.000000</td>\n",
       "      <td>4.000000</td>\n",
       "      <td>0.000000</td>\n",
       "      <td>10.000000</td>\n",
       "    </tr>\n",
       "    <tr>\n",
       "      <th>25%</th>\n",
       "      <td>3.000000</td>\n",
       "      <td>54.000000</td>\n",
       "      <td>5.000000</td>\n",
       "      <td>2.000000</td>\n",
       "      <td>40.000000</td>\n",
       "    </tr>\n",
       "    <tr>\n",
       "      <th>50%</th>\n",
       "      <td>5.000000</td>\n",
       "      <td>69.000000</td>\n",
       "      <td>7.000000</td>\n",
       "      <td>5.000000</td>\n",
       "      <td>55.000000</td>\n",
       "    </tr>\n",
       "    <tr>\n",
       "      <th>75%</th>\n",
       "      <td>7.000000</td>\n",
       "      <td>85.000000</td>\n",
       "      <td>8.000000</td>\n",
       "      <td>7.000000</td>\n",
       "      <td>71.000000</td>\n",
       "    </tr>\n",
       "    <tr>\n",
       "      <th>max</th>\n",
       "      <td>9.000000</td>\n",
       "      <td>99.000000</td>\n",
       "      <td>9.000000</td>\n",
       "      <td>9.000000</td>\n",
       "      <td>100.000000</td>\n",
       "    </tr>\n",
       "  </tbody>\n",
       "</table>\n",
       "</div>"
      ],
      "text/plain": [
       "       Hours Studied  Previous Scores   Sleep Hours  \\\n",
       "count   10000.000000     10000.000000  10000.000000   \n",
       "mean        4.992900        69.445700      6.530600   \n",
       "std         2.589309        17.343152      1.695863   \n",
       "min         1.000000        40.000000      4.000000   \n",
       "25%         3.000000        54.000000      5.000000   \n",
       "50%         5.000000        69.000000      7.000000   \n",
       "75%         7.000000        85.000000      8.000000   \n",
       "max         9.000000        99.000000      9.000000   \n",
       "\n",
       "       Sample Question Papers Practiced  Performance Index  \n",
       "count                      10000.000000       10000.000000  \n",
       "mean                           4.583300          55.224800  \n",
       "std                            2.867348          19.212558  \n",
       "min                            0.000000          10.000000  \n",
       "25%                            2.000000          40.000000  \n",
       "50%                            5.000000          55.000000  \n",
       "75%                            7.000000          71.000000  \n",
       "max                            9.000000         100.000000  "
      ]
     },
     "execution_count": 4,
     "metadata": {},
     "output_type": "execute_result"
    }
   ],
   "source": [
    "df.describe() #Using this we're getting the descriptive statistical report of the dataset"
   ]
  },
  {
   "cell_type": "markdown",
   "id": "c04b0f0e",
   "metadata": {},
   "source": [
    "Step 2  - Data Preparation - Here we prepare the data by converting categoricald data into numerical data\n",
    "and get the data ready for prediction by splitting them for training and testing."
   ]
  },
  {
   "cell_type": "code",
   "execution_count": 5,
   "id": "94cba794",
   "metadata": {},
   "outputs": [
    {
     "name": "stdout",
     "output_type": "stream",
     "text": [
      "['Hours Studied', 'Previous Scores', 'Sleep Hours', 'Sample Question Papers Practiced', 'Performance Index', 'Extracurricular Activities_Yes']\n"
     ]
    }
   ],
   "source": [
    "import pandas as pd\n",
    "from sklearn.model_selection import train_test_split\n",
    "\n",
    "df = pd.get_dummies(df, columns=['Extracurricular Activities'],drop_first = True, dtype = int)\n",
    "print(df.columns.to_list()) #to see the revised or new column list\n",
    "\n",
    "#The .dummies function is particulary used to change the categorical data into numerical data & (using drop_first)\n",
    "# we are eliminating the problem of multicollinearity since we need only one column to represent both states.\n",
    "#(the base or original dummy column is removed)"
   ]
  },
  {
   "cell_type": "markdown",
   "id": "6d9d292e",
   "metadata": {},
   "source": [
    "Now let us create our dependent and independent variables"
   ]
  },
  {
   "cell_type": "code",
   "execution_count": 6,
   "id": "1139c681",
   "metadata": {},
   "outputs": [
    {
     "name": "stdout",
     "output_type": "stream",
     "text": [
      "Features (X) shape: (10000, 5) (Number of rows, Number of features)\n",
      "Target (y) shape: (10000,) (Number of rows for the target variable)\n"
     ]
    }
   ],
   "source": [
    "X = df.drop('Performance Index',axis=1) #Since we're predicting the Performance index columns we're dropiing this and\n",
    "#not using the same as input. With this our independent variables are defined\n",
    "y = df['Performance Index'] #This is our target or dependent variable\n",
    "\n",
    "print(f\"Features (X) shape: {X.shape} (Number of rows, Number of features)\")\n",
    "print(f\"Target (y) shape: {y.shape} (Number of rows for the target variable)\")"
   ]
  },
  {
   "cell_type": "markdown",
   "id": "1444dd6f",
   "metadata": {},
   "source": [
    "Our next step is to split the data for training and testing"
   ]
  },
  {
   "cell_type": "code",
   "execution_count": 8,
   "id": "664df392",
   "metadata": {},
   "outputs": [
    {
     "name": "stdout",
     "output_type": "stream",
     "text": [
      "Data split into training (80%) and testing (20%) sets.\n",
      "Shape of X_train: (8000, 5) (Features for training)\n",
      "Shape of X_test: (2000, 5) (Features for testing)\n",
      "Shape of y_train: (8000,) (Target for training)\n",
      "Shape of y_test: (2000,) (Target for testing)\n"
     ]
    }
   ],
   "source": [
    "X_train, X_test, y_train, y_test = train_test_split(X, y , test_size = 0.2, random_state = 42)\n",
    "\n",
    "#In this line of code, we're splitting the data i.e the dependent variable y and independent variable X for training and\n",
    "#testing. The testing size is set to 20 % so, the remaining 80% of the data will be used for training. \n",
    "#In a nutshell we're spliting all the columns for training & testing after setting up the target variable Y and \n",
    "#Independent variable X.\n",
    "\n",
    "print(f\"Data split into training (80%) and testing (20%) sets.\")\n",
    "print(f\"Shape of X_train: {X_train.shape} (Features for training)\")\n",
    "print(f\"Shape of X_test: {X_test.shape} (Features for testing)\")\n",
    "print(f\"Shape of y_train: {y_train.shape} (Target for training)\")\n",
    "print(f\"Shape of y_test: {y_test.shape} (Target for testing)\")\n"
   ]
  },
  {
   "cell_type": "markdown",
   "id": "32e4bc57",
   "metadata": {},
   "source": [
    "Step 3 - Traininig the MLR model"
   ]
  },
  {
   "cell_type": "code",
   "execution_count": 9,
   "id": "68068d90",
   "metadata": {},
   "outputs": [
    {
     "data": {
      "text/html": [
       "<style>#sk-container-id-1 {color: black;background-color: white;}#sk-container-id-1 pre{padding: 0;}#sk-container-id-1 div.sk-toggleable {background-color: white;}#sk-container-id-1 label.sk-toggleable__label {cursor: pointer;display: block;width: 100%;margin-bottom: 0;padding: 0.3em;box-sizing: border-box;text-align: center;}#sk-container-id-1 label.sk-toggleable__label-arrow:before {content: \"▸\";float: left;margin-right: 0.25em;color: #696969;}#sk-container-id-1 label.sk-toggleable__label-arrow:hover:before {color: black;}#sk-container-id-1 div.sk-estimator:hover label.sk-toggleable__label-arrow:before {color: black;}#sk-container-id-1 div.sk-toggleable__content {max-height: 0;max-width: 0;overflow: hidden;text-align: left;background-color: #f0f8ff;}#sk-container-id-1 div.sk-toggleable__content pre {margin: 0.2em;color: black;border-radius: 0.25em;background-color: #f0f8ff;}#sk-container-id-1 input.sk-toggleable__control:checked~div.sk-toggleable__content {max-height: 200px;max-width: 100%;overflow: auto;}#sk-container-id-1 input.sk-toggleable__control:checked~label.sk-toggleable__label-arrow:before {content: \"▾\";}#sk-container-id-1 div.sk-estimator input.sk-toggleable__control:checked~label.sk-toggleable__label {background-color: #d4ebff;}#sk-container-id-1 div.sk-label input.sk-toggleable__control:checked~label.sk-toggleable__label {background-color: #d4ebff;}#sk-container-id-1 input.sk-hidden--visually {border: 0;clip: rect(1px 1px 1px 1px);clip: rect(1px, 1px, 1px, 1px);height: 1px;margin: -1px;overflow: hidden;padding: 0;position: absolute;width: 1px;}#sk-container-id-1 div.sk-estimator {font-family: monospace;background-color: #f0f8ff;border: 1px dotted black;border-radius: 0.25em;box-sizing: border-box;margin-bottom: 0.5em;}#sk-container-id-1 div.sk-estimator:hover {background-color: #d4ebff;}#sk-container-id-1 div.sk-parallel-item::after {content: \"\";width: 100%;border-bottom: 1px solid gray;flex-grow: 1;}#sk-container-id-1 div.sk-label:hover label.sk-toggleable__label {background-color: #d4ebff;}#sk-container-id-1 div.sk-serial::before {content: \"\";position: absolute;border-left: 1px solid gray;box-sizing: border-box;top: 0;bottom: 0;left: 50%;z-index: 0;}#sk-container-id-1 div.sk-serial {display: flex;flex-direction: column;align-items: center;background-color: white;padding-right: 0.2em;padding-left: 0.2em;position: relative;}#sk-container-id-1 div.sk-item {position: relative;z-index: 1;}#sk-container-id-1 div.sk-parallel {display: flex;align-items: stretch;justify-content: center;background-color: white;position: relative;}#sk-container-id-1 div.sk-item::before, #sk-container-id-1 div.sk-parallel-item::before {content: \"\";position: absolute;border-left: 1px solid gray;box-sizing: border-box;top: 0;bottom: 0;left: 50%;z-index: -1;}#sk-container-id-1 div.sk-parallel-item {display: flex;flex-direction: column;z-index: 1;position: relative;background-color: white;}#sk-container-id-1 div.sk-parallel-item:first-child::after {align-self: flex-end;width: 50%;}#sk-container-id-1 div.sk-parallel-item:last-child::after {align-self: flex-start;width: 50%;}#sk-container-id-1 div.sk-parallel-item:only-child::after {width: 0;}#sk-container-id-1 div.sk-dashed-wrapped {border: 1px dashed gray;margin: 0 0.4em 0.5em 0.4em;box-sizing: border-box;padding-bottom: 0.4em;background-color: white;}#sk-container-id-1 div.sk-label label {font-family: monospace;font-weight: bold;display: inline-block;line-height: 1.2em;}#sk-container-id-1 div.sk-label-container {text-align: center;}#sk-container-id-1 div.sk-container {/* jupyter's `normalize.less` sets `[hidden] { display: none; }` but bootstrap.min.css set `[hidden] { display: none !important; }` so we also need the `!important` here to be able to override the default hidden behavior on the sphinx rendered scikit-learn.org. See: https://github.com/scikit-learn/scikit-learn/issues/21755 */display: inline-block !important;position: relative;}#sk-container-id-1 div.sk-text-repr-fallback {display: none;}</style><div id=\"sk-container-id-1\" class=\"sk-top-container\"><div class=\"sk-text-repr-fallback\"><pre>LinearRegression()</pre><b>In a Jupyter environment, please rerun this cell to show the HTML representation or trust the notebook. <br />On GitHub, the HTML representation is unable to render, please try loading this page with nbviewer.org.</b></div><div class=\"sk-container\" hidden><div class=\"sk-item\"><div class=\"sk-estimator sk-toggleable\"><input class=\"sk-toggleable__control sk-hidden--visually\" id=\"sk-estimator-id-1\" type=\"checkbox\" checked><label for=\"sk-estimator-id-1\" class=\"sk-toggleable__label sk-toggleable__label-arrow\">LinearRegression</label><div class=\"sk-toggleable__content\"><pre>LinearRegression()</pre></div></div></div></div></div>"
      ],
      "text/plain": [
       "LinearRegression()"
      ]
     },
     "execution_count": 9,
     "metadata": {},
     "output_type": "execute_result"
    }
   ],
   "source": [
    "from sklearn.linear_model import LinearRegression\n",
    "\n",
    "model = LinearRegression()\n",
    "\n",
    "model.fit(X_train,y_train)"
   ]
  },
  {
   "cell_type": "markdown",
   "id": "6cee32d4",
   "metadata": {},
   "source": [
    "# Step 4 - make prediction and evaluate the model"
   ]
  },
  {
   "cell_type": "code",
   "execution_count": 10,
   "id": "984d0873",
   "metadata": {},
   "outputs": [
    {
     "name": "stdout",
     "output_type": "stream",
     "text": [
      "Predictions made for the test set. (First 5 predictions: [54.71, 22.62, 47.9, 31.29, 43.0])\n"
     ]
    }
   ],
   "source": [
    "from sklearn.metrics import r2_score, mean_squared_error, mean_absolute_error\n",
    "import numpy as np\n",
    "\n",
    "y_pred = model.predict(X_test)\n",
    "\n",
    "print(f\"Predictions made for the test set. (First 5 predictions: {y_pred[:5].round(2).tolist()})\")"
   ]
  },
  {
   "cell_type": "code",
   "execution_count": 11,
   "id": "67d9d8c0",
   "metadata": {},
   "outputs": [
    {
     "name": "stdout",
     "output_type": "stream",
     "text": [
      "R-squared (R2): 0.9887\n"
     ]
    }
   ],
   "source": [
    "r2 = r2_score(y_pred,y_test)\n",
    "\n",
    "print(f\"R-squared (R2): {r2:.4f}\")"
   ]
  },
  {
   "cell_type": "code",
   "execution_count": 12,
   "id": "0b771135",
   "metadata": {},
   "outputs": [
    {
     "name": "stdout",
     "output_type": "stream",
     "text": [
      "mae: 1.6111\n"
     ]
    }
   ],
   "source": [
    "mae = mean_absolute_error(y_test,y_pred)\n",
    "print(f\"mae: {mae:.4f}\")"
   ]
  },
  {
   "cell_type": "code",
   "execution_count": 13,
   "id": "a2cfcbf9",
   "metadata": {},
   "outputs": [
    {
     "name": "stdout",
     "output_type": "stream",
     "text": [
      "mse:4.0826\n"
     ]
    }
   ],
   "source": [
    "mse = mean_squared_error(y_test,y_pred)\n",
    "print(f\"mse:{mse:.4f}\")"
   ]
  },
  {
   "cell_type": "code",
   "execution_count": 14,
   "id": "dad0b42f",
   "metadata": {},
   "outputs": [
    {
     "name": "stdout",
     "output_type": "stream",
     "text": [
      "rmse:2.0206\n"
     ]
    }
   ],
   "source": [
    "#Root mean squared error\n",
    "rmse = np.sqrt(mse)\n",
    "\n",
    "print(f\"rmse:{rmse:.4f}\")"
   ]
  },
  {
   "cell_type": "markdown",
   "id": "d5a46d89",
   "metadata": {},
   "source": [
    "Step 5 - Displaying coefficient and intercept"
   ]
  },
  {
   "cell_type": "code",
   "execution_count": 15,
   "id": "a1409304",
   "metadata": {},
   "outputs": [
    {
     "name": "stdout",
     "output_type": "stream",
     "text": [
      "Coefficients:\n",
      "| Feature                          | Coefficient   |\n",
      "|:---------------------------------|:--------------|\n",
      "| Hours Studied                    | 2.85248       |\n",
      "| Previous Scores                  | 1.01699       |\n",
      "| Sleep Hours                      | 0.476941      |\n",
      "| Sample Question Papers Practiced | 0.191831      |\n",
      "| Extracurricular Activities_Yes   | 0.608617      |\n",
      "\n",
      "Intercept: -33.9219\n",
      "\n",
      "Model interpretation complete. These values define the linear relationship found by the model.\n"
     ]
    }
   ],
   "source": [
    "import pandas as pd\n",
    "\n",
    "coefficients = model.coef_\n",
    "\n",
    "intercept = model.intercept_\n",
    "\n",
    "coefficients_df = pd.DataFrame({'Feature': X.columns, 'Coefficient': coefficients})\n",
    "\n",
    "print(\"Coefficients:\")\n",
    "print(coefficients_df.to_markdown(index=False, numalign=\"left\", stralign=\"left\"))\n",
    "\n",
    "print(f\"\\nIntercept: {intercept:.4f}\")\n",
    "\n",
    "print(\"\\nModel interpretation complete. These values define the linear relationship found by the model.\")"
   ]
  },
  {
   "cell_type": "code",
   "execution_count": 16,
   "id": "760e7b7c",
   "metadata": {},
   "outputs": [
    {
     "data": {
      "text/html": [
       "<div>\n",
       "<style scoped>\n",
       "    .dataframe tbody tr th:only-of-type {\n",
       "        vertical-align: middle;\n",
       "    }\n",
       "\n",
       "    .dataframe tbody tr th {\n",
       "        vertical-align: top;\n",
       "    }\n",
       "\n",
       "    .dataframe thead th {\n",
       "        text-align: right;\n",
       "    }\n",
       "</style>\n",
       "<table border=\"1\" class=\"dataframe\">\n",
       "  <thead>\n",
       "    <tr style=\"text-align: right;\">\n",
       "      <th></th>\n",
       "      <th>Hours Studied</th>\n",
       "      <th>Previous Scores</th>\n",
       "      <th>Sleep Hours</th>\n",
       "      <th>Sample Question Papers Practiced</th>\n",
       "      <th>Performance Index</th>\n",
       "      <th>Extracurricular Activities_Yes</th>\n",
       "    </tr>\n",
       "  </thead>\n",
       "  <tbody>\n",
       "    <tr>\n",
       "      <th>Hours Studied</th>\n",
       "      <td>1.000000</td>\n",
       "      <td>-0.012390</td>\n",
       "      <td>0.001245</td>\n",
       "      <td>0.017463</td>\n",
       "      <td>0.373730</td>\n",
       "      <td>0.003873</td>\n",
       "    </tr>\n",
       "    <tr>\n",
       "      <th>Previous Scores</th>\n",
       "      <td>-0.012390</td>\n",
       "      <td>1.000000</td>\n",
       "      <td>0.005944</td>\n",
       "      <td>0.007888</td>\n",
       "      <td>0.915189</td>\n",
       "      <td>0.008369</td>\n",
       "    </tr>\n",
       "    <tr>\n",
       "      <th>Sleep Hours</th>\n",
       "      <td>0.001245</td>\n",
       "      <td>0.005944</td>\n",
       "      <td>1.000000</td>\n",
       "      <td>0.003990</td>\n",
       "      <td>0.048106</td>\n",
       "      <td>-0.023284</td>\n",
       "    </tr>\n",
       "    <tr>\n",
       "      <th>Sample Question Papers Practiced</th>\n",
       "      <td>0.017463</td>\n",
       "      <td>0.007888</td>\n",
       "      <td>0.003990</td>\n",
       "      <td>1.000000</td>\n",
       "      <td>0.043268</td>\n",
       "      <td>0.013103</td>\n",
       "    </tr>\n",
       "    <tr>\n",
       "      <th>Performance Index</th>\n",
       "      <td>0.373730</td>\n",
       "      <td>0.915189</td>\n",
       "      <td>0.048106</td>\n",
       "      <td>0.043268</td>\n",
       "      <td>1.000000</td>\n",
       "      <td>0.024525</td>\n",
       "    </tr>\n",
       "    <tr>\n",
       "      <th>Extracurricular Activities_Yes</th>\n",
       "      <td>0.003873</td>\n",
       "      <td>0.008369</td>\n",
       "      <td>-0.023284</td>\n",
       "      <td>0.013103</td>\n",
       "      <td>0.024525</td>\n",
       "      <td>1.000000</td>\n",
       "    </tr>\n",
       "  </tbody>\n",
       "</table>\n",
       "</div>"
      ],
      "text/plain": [
       "                                  Hours Studied  Previous Scores  Sleep Hours  \\\n",
       "Hours Studied                          1.000000        -0.012390     0.001245   \n",
       "Previous Scores                       -0.012390         1.000000     0.005944   \n",
       "Sleep Hours                            0.001245         0.005944     1.000000   \n",
       "Sample Question Papers Practiced       0.017463         0.007888     0.003990   \n",
       "Performance Index                      0.373730         0.915189     0.048106   \n",
       "Extracurricular Activities_Yes         0.003873         0.008369    -0.023284   \n",
       "\n",
       "                                  Sample Question Papers Practiced  \\\n",
       "Hours Studied                                             0.017463   \n",
       "Previous Scores                                           0.007888   \n",
       "Sleep Hours                                               0.003990   \n",
       "Sample Question Papers Practiced                          1.000000   \n",
       "Performance Index                                         0.043268   \n",
       "Extracurricular Activities_Yes                            0.013103   \n",
       "\n",
       "                                  Performance Index  \\\n",
       "Hours Studied                              0.373730   \n",
       "Previous Scores                            0.915189   \n",
       "Sleep Hours                                0.048106   \n",
       "Sample Question Papers Practiced           0.043268   \n",
       "Performance Index                          1.000000   \n",
       "Extracurricular Activities_Yes             0.024525   \n",
       "\n",
       "                                  Extracurricular Activities_Yes  \n",
       "Hours Studied                                           0.003873  \n",
       "Previous Scores                                         0.008369  \n",
       "Sleep Hours                                            -0.023284  \n",
       "Sample Question Papers Practiced                        0.013103  \n",
       "Performance Index                                       0.024525  \n",
       "Extracurricular Activities_Yes                          1.000000  "
      ]
     },
     "execution_count": 16,
     "metadata": {},
     "output_type": "execute_result"
    }
   ],
   "source": [
    "df.corr()"
   ]
  },
  {
   "cell_type": "code",
   "execution_count": 17,
   "id": "7647c289",
   "metadata": {},
   "outputs": [
    {
     "data": {
      "text/html": [
       "<div>\n",
       "<style scoped>\n",
       "    .dataframe tbody tr th:only-of-type {\n",
       "        vertical-align: middle;\n",
       "    }\n",
       "\n",
       "    .dataframe tbody tr th {\n",
       "        vertical-align: top;\n",
       "    }\n",
       "\n",
       "    .dataframe thead th {\n",
       "        text-align: right;\n",
       "    }\n",
       "</style>\n",
       "<table border=\"1\" class=\"dataframe\">\n",
       "  <thead>\n",
       "    <tr style=\"text-align: right;\">\n",
       "      <th></th>\n",
       "      <th>Hours Studied</th>\n",
       "      <th>Previous Scores</th>\n",
       "      <th>Sleep Hours</th>\n",
       "      <th>Sample Question Papers Practiced</th>\n",
       "      <th>Performance Index</th>\n",
       "      <th>Extracurricular Activities_Yes</th>\n",
       "    </tr>\n",
       "  </thead>\n",
       "  <tbody>\n",
       "    <tr>\n",
       "      <th>Hours Studied</th>\n",
       "      <td>1.000000</td>\n",
       "      <td>-0.012476</td>\n",
       "      <td>0.001192</td>\n",
       "      <td>0.017303</td>\n",
       "      <td>0.352395</td>\n",
       "      <td>0.003770</td>\n",
       "    </tr>\n",
       "    <tr>\n",
       "      <th>Previous Scores</th>\n",
       "      <td>-0.012476</td>\n",
       "      <td>1.000000</td>\n",
       "      <td>0.005981</td>\n",
       "      <td>0.007881</td>\n",
       "      <td>0.920725</td>\n",
       "      <td>0.008243</td>\n",
       "    </tr>\n",
       "    <tr>\n",
       "      <th>Sleep Hours</th>\n",
       "      <td>0.001192</td>\n",
       "      <td>0.005981</td>\n",
       "      <td>1.000000</td>\n",
       "      <td>0.004106</td>\n",
       "      <td>0.045074</td>\n",
       "      <td>-0.023418</td>\n",
       "    </tr>\n",
       "    <tr>\n",
       "      <th>Sample Question Papers Practiced</th>\n",
       "      <td>0.017303</td>\n",
       "      <td>0.007881</td>\n",
       "      <td>0.004106</td>\n",
       "      <td>1.000000</td>\n",
       "      <td>0.040492</td>\n",
       "      <td>0.012986</td>\n",
       "    </tr>\n",
       "    <tr>\n",
       "      <th>Performance Index</th>\n",
       "      <td>0.352395</td>\n",
       "      <td>0.920725</td>\n",
       "      <td>0.045074</td>\n",
       "      <td>0.040492</td>\n",
       "      <td>1.000000</td>\n",
       "      <td>0.021915</td>\n",
       "    </tr>\n",
       "    <tr>\n",
       "      <th>Extracurricular Activities_Yes</th>\n",
       "      <td>0.003770</td>\n",
       "      <td>0.008243</td>\n",
       "      <td>-0.023418</td>\n",
       "      <td>0.012986</td>\n",
       "      <td>0.021915</td>\n",
       "      <td>1.000000</td>\n",
       "    </tr>\n",
       "  </tbody>\n",
       "</table>\n",
       "</div>"
      ],
      "text/plain": [
       "                                  Hours Studied  Previous Scores  Sleep Hours  \\\n",
       "Hours Studied                          1.000000        -0.012476     0.001192   \n",
       "Previous Scores                       -0.012476         1.000000     0.005981   \n",
       "Sleep Hours                            0.001192         0.005981     1.000000   \n",
       "Sample Question Papers Practiced       0.017303         0.007881     0.004106   \n",
       "Performance Index                      0.352395         0.920725     0.045074   \n",
       "Extracurricular Activities_Yes         0.003770         0.008243    -0.023418   \n",
       "\n",
       "                                  Sample Question Papers Practiced  \\\n",
       "Hours Studied                                             0.017303   \n",
       "Previous Scores                                           0.007881   \n",
       "Sleep Hours                                               0.004106   \n",
       "Sample Question Papers Practiced                          1.000000   \n",
       "Performance Index                                         0.040492   \n",
       "Extracurricular Activities_Yes                            0.012986   \n",
       "\n",
       "                                  Performance Index  \\\n",
       "Hours Studied                              0.352395   \n",
       "Previous Scores                            0.920725   \n",
       "Sleep Hours                                0.045074   \n",
       "Sample Question Papers Practiced           0.040492   \n",
       "Performance Index                          1.000000   \n",
       "Extracurricular Activities_Yes             0.021915   \n",
       "\n",
       "                                  Extracurricular Activities_Yes  \n",
       "Hours Studied                                           0.003770  \n",
       "Previous Scores                                         0.008243  \n",
       "Sleep Hours                                            -0.023418  \n",
       "Sample Question Papers Practiced                        0.012986  \n",
       "Performance Index                                       0.021915  \n",
       "Extracurricular Activities_Yes                          1.000000  "
      ]
     },
     "execution_count": 17,
     "metadata": {},
     "output_type": "execute_result"
    }
   ],
   "source": [
    "df.corr(method=\"spearman\")"
   ]
  },
  {
   "cell_type": "code",
   "execution_count": 28,
   "id": "94b1e2aa",
   "metadata": {},
   "outputs": [
    {
     "data": {
      "text/plain": [
       "<Axes: >"
      ]
     },
     "execution_count": 28,
     "metadata": {},
     "output_type": "execute_result"
    },
    {
     "data": {
      "image/png": "[encoded data removed]",
      "text/plain": [
       "<Figure size 640x480 with 2 Axes>"
      ]
     },
     "metadata": {},
     "output_type": "display_data"
    }
   ],
   "source": [
    "import seaborn as sns\n",
    "\n",
    "sns.heatmap(df.corr(method='spearman'),annot=True)"
   ]
  },
  {
   "cell_type": "code",
   "execution_count": 18,
   "id": "706832bc",
   "metadata": {},
   "outputs": [],
   "source": [
    "import matplotlib.pyplot as plt\n",
    "import seaborn as sns\n",
    "%matplotlib inline"
   ]
  },
  {
   "cell_type": "code",
   "execution_count": 23,
   "id": "5975d897",
   "metadata": {},
   "outputs": [
    {
     "data": {
      "image/png": "[encoded data removed]",
      "text/plain": [
       "<Figure size 500x500 with 2 Axes>"
      ]
     },
     "metadata": {},
     "output_type": "display_data"
    }
   ],
   "source": [
    "correlation_matrix = df.corr(numeric_only=True)\n",
    "plt.figure(figsize = (5,5))\n",
    "sns.heatmap(correlation_matrix,annot = True)\n",
    "plt.title('Correlation Matrix of Student Performance Dataset', fontsize=16)\n",
    "plt.show()"
   ]
  },
  {
   "cell_type": "code",
   "execution_count": null,
   "id": "49da7085",
   "metadata": {},
   "outputs": [],
   "source": []
  },
  {
   "cell_type": "code",
   "execution_count": null,
   "id": "4ba30836",
   "metadata": {},
   "outputs": [],
   "source": []
  },
  {
   "cell_type": "code",
   "execution_count": null,
   "id": "23987353",
   "metadata": {},
   "outputs": [],
   "source": []
  }
 ],
 "metadata": {
  "kernelspec": {
   "display_name": "Python 3 (ipykernel)",
   "language": "python",
   "name": "python3"
  },
  "language_info": {
   "codemirror_mode": {
    "name": "ipython",
    "version": 3
   },
   "file_extension": ".py",
   "mimetype": "text/x-python",
   "name": "python",
   "nbconvert_exporter": "python",
   "pygments_lexer": "ipython3",
   "version": "3.11.7"
  }
 },
 "nbformat": 4,
 "nbformat_minor": 5
}
